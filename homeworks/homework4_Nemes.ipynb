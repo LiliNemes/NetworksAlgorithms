{
 "cells": [
  {
   "cell_type": "code",
   "execution_count": 1,
   "id": "23d988e9",
   "metadata": {},
   "outputs": [
    {
     "ename": "ModuleNotFoundError",
     "evalue": "No module named 'networkx'",
     "output_type": "error",
     "traceback": [
      "\u001b[1;31m---------------------------------------------------------------------------\u001b[0m",
      "\u001b[1;31mModuleNotFoundError\u001b[0m                       Traceback (most recent call last)",
      "Cell \u001b[1;32mIn[1], line 1\u001b[0m\n\u001b[1;32m----> 1\u001b[0m \u001b[38;5;28;01mimport\u001b[39;00m \u001b[38;5;21;01mnetworkx\u001b[39;00m \u001b[38;5;28;01mas\u001b[39;00m \u001b[38;5;21;01mnx\u001b[39;00m\n\u001b[0;32m      2\u001b[0m \u001b[38;5;28;01mimport\u001b[39;00m \u001b[38;5;21;01mrandom\u001b[39;00m \u001b[38;5;28;01mas\u001b[39;00m \u001b[38;5;21;01mrn\u001b[39;00m\n\u001b[0;32m      3\u001b[0m \u001b[38;5;28;01mimport\u001b[39;00m \u001b[38;5;21;01mstatistics\u001b[39;00m \u001b[38;5;28;01mas\u001b[39;00m \u001b[38;5;21;01mst\u001b[39;00m\n",
      "\u001b[1;31mModuleNotFoundError\u001b[0m: No module named 'networkx'"
     ]
    }
   ],
   "source": [
    "import networkx as nx\n",
    "import random as rn\n",
    "import statistics as st\n",
    "import matplotlib.pyplot as plt"
   ]
  },
  {
   "cell_type": "code",
   "execution_count": null,
   "id": "0c653be3",
   "metadata": {},
   "outputs": [],
   "source": [
    "def Network_of_N_nodes(N, num_of_neighbors):\n",
    "    g = nx.Graph()\n",
    "    for i in range(0, N):\n",
    "        g.add_node(i)\n",
    "    \n",
    "    for j in range(0, N):\n",
    "        for l in range(1, num_of_neighbors+1):\n",
    "            upper = j+l\n",
    "            if j+l>=N:\n",
    "                upper=(j+l)-N\n",
    "            g.add_edge(j, upper)\n",
    "    return g"
   ]
  },
  {
   "cell_type": "markdown",
   "id": "5373a71a",
   "metadata": {},
   "source": [
    "For the sake of the experiment, I will only consider Ns bigger than or equal to six, as you need at least 6 nodes to be able to add N/2 new edges to the graph that are not self-loops."
   ]
  },
  {
   "cell_type": "code",
   "execution_count": null,
   "id": "18ce7556",
   "metadata": {},
   "outputs": [],
   "source": [
    "def new_edges(G):\n",
    "    all_nodes = list(G.nodes)\n",
    "    for i in range(0, int(G.number_of_nodes()/2)):\n",
    "        is_in=True\n",
    "        while is_in:\n",
    "            index_a = rn.randint(0, len(all_nodes)-1)\n",
    "            a = all_nodes[index_a]\n",
    "            index_b = rn.randint(0, len(all_nodes)-1)\n",
    "            b = all_nodes[index_b]\n",
    "            #Making sure that only edges are added that are not self loops and don't already exist\n",
    "            if (not G.has_edge(a, b)) & (a!=b):\n",
    "                is_in=False\n",
    "                all_nodes.remove(a)\n",
    "                all_nodes.remove(b)\n",
    "        G.add_edge(a, b)"
   ]
  },
  {
   "cell_type": "code",
   "execution_count": null,
   "id": "2afe80f0",
   "metadata": {},
   "outputs": [],
   "source": [
    "def test_new_edges(num, connection):\n",
    "    G = Network_of_N_nodes(num, connection)\n",
    "    new_edges(G)\n",
    "    for i in range(0, len(list(G.nodes))):\n",
    "        print(G.degree[i])"
   ]
  },
  {
   "cell_type": "code",
   "execution_count": null,
   "id": "7d943700",
   "metadata": {},
   "outputs": [],
   "source": [
    "test_new_edges(10, 2)"
   ]
  },
  {
   "cell_type": "code",
   "execution_count": null,
   "id": "09051244",
   "metadata": {},
   "outputs": [],
   "source": [
    "def generator():\n",
    "    avg_dict={}\n",
    "    for i in range(6,250,2):\n",
    "        avg = []\n",
    "        print(i)\n",
    "        for j in range(0, 150):\n",
    "            G = Network_of_N_nodes(i, 2)\n",
    "            new_edges(G)\n",
    "            c = nx.average_clustering(G)\n",
    "            avg.append(c)\n",
    "        a = st.mean(avg)\n",
    "        avg_dict[i]=a\n",
    "    return avg_dict\n",
    "        "
   ]
  },
  {
   "cell_type": "code",
   "execution_count": null,
   "id": "ac9212a7",
   "metadata": {},
   "outputs": [],
   "source": [
    "avg_dict = generator()"
   ]
  },
  {
   "cell_type": "code",
   "execution_count": null,
   "id": "ed78fa17",
   "metadata": {},
   "outputs": [],
   "source": [
    "fig, ax = plt.subplots()\n",
    "\n",
    "ax.bar(avg_dict.keys(), avg_dict.values(), width=1, edgecolor=\"white\", linewidth=0.7)\n",
    "plt.show()"
   ]
  },
  {
   "cell_type": "markdown",
   "id": "497fd611",
   "metadata": {},
   "source": [
    "We can see that the average clustering coefficient converges to 0.3, so the estimate for the average clustering coefficient for N -> infinity is 0.3. It is not exactly 0.3 for the N's pictured above, as in the theoretical explanation, we assume that the probability of the N/2 shortcut nodes forming a triangle is 0 for N -> infinity, but for a certain N that probability is not zero (its 1 for N=6 for example), but lowering increasingly as N increases, making the average clustering coefficient slowly closer to 0.3."
   ]
  }
 ],
 "metadata": {
  "kernelspec": {
   "display_name": "Python 3 (ipykernel)",
   "language": "python",
   "name": "python3"
  },
  "language_info": {
   "codemirror_mode": {
    "name": "ipython",
    "version": 3
   },
   "file_extension": ".py",
   "mimetype": "text/x-python",
   "name": "python",
   "nbconvert_exporter": "python",
   "pygments_lexer": "ipython3",
   "version": "3.11.8"
  }
 },
 "nbformat": 4,
 "nbformat_minor": 5
}
