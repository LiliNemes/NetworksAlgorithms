{
 "cells": [
  {
   "cell_type": "code",
   "execution_count": 1,
   "id": "b018606b",
   "metadata": {},
   "outputs": [],
   "source": [
    "import networkx as nx\n",
    "import random as rn\n",
    "import statistics as st\n",
    "import matplotlib.pyplot as plt"
   ]
  },
  {
   "cell_type": "markdown",
   "id": "26fd9286",
   "metadata": {},
   "source": [
    "The network generator from the previous homeworks:"
   ]
  },
  {
   "cell_type": "code",
   "execution_count": 2,
   "id": "5bba36a8",
   "metadata": {},
   "outputs": [],
   "source": [
    "def Network_of_N_nodes(N, num_of_neighbors):\n",
    "    g = nx.Graph()\n",
    "    for i in range(0, N):\n",
    "        g.add_node(i)\n",
    "    \n",
    "    for j in range(0, N):\n",
    "        for l in range(1, num_of_neighbors+1):\n",
    "            upper = j+l\n",
    "            if j+l>=N:\n",
    "                upper=(j+l)-N\n",
    "            g.add_edge(j, upper)\n",
    "    return g"
   ]
  },
  {
   "cell_type": "markdown",
   "id": "e8a53c0d",
   "metadata": {},
   "source": [
    "The generator function from the previous homework. It's purpose is to construct and average the different graphs for different Ns:"
   ]
  },
  {
   "cell_type": "code",
   "execution_count": 3,
   "id": "f49bde38",
   "metadata": {},
   "outputs": [],
   "source": [
    "def generator():\n",
    "    avg_dict={}\n",
    "    #To only generate graphs with even number of nodes.\n",
    "    for i in range(6,100,2):\n",
    "        avg = []\n",
    "        for j in range(0, 40):\n",
    "            G = Network_of_N_nodes(i, 2)\n",
    "            recursive(G, list(G.nodes()))\n",
    "            c = nx.average_clustering(G)\n",
    "            avg.append(c)\n",
    "        a = st.mean(avg)\n",
    "        avg_dict[i]=a\n",
    "    return avg_dict"
   ]
  },
  {
   "cell_type": "markdown",
   "id": "5e88f03a",
   "metadata": {},
   "source": [
    "I decided to construct the edge adding function from scratch. If we want to add N/2 edges and distribute these shortcut edges evenly we need an even number of nodes. To construct a graph with the shortcut edges, we basically need to fin a perfect pairing in the graph, but pay attention not to pair nodes together that already have an edge between them."
   ]
  },
  {
   "cell_type": "markdown",
   "id": "e786c0af",
   "metadata": {},
   "source": [
    "The **possible_pairs** function determines whether there is a shortcut edge to draw or not. \\\n",
    "**G**: G is the graph in which we want to exemine if it is possible to draw another shortcut edge.\\\n",
    "**all_nodes**: a list containing the nodes that need a shortcut edge, for the shortcut edges to be evenly distributed.\\\n",
    "The function returns *True* if there is at least one edge to draw, and *False* if there aren't any possible edges."
   ]
  },
  {
   "cell_type": "code",
   "execution_count": 4,
   "id": "03a655f0",
   "metadata": {},
   "outputs": [],
   "source": [
    "def possible_pairs(G, all_nodes):\n",
    "    for k in range(0, len(all_nodes)):\n",
    "        for l in range(0, len(all_nodes)):\n",
    "            #The edge between the 2 nodes is a shortcut edge, if it doesn't already exist in G and if it is not a self-loop.\n",
    "            if (not G.has_edge(all_nodes[k], all_nodes[l])) & k!=l:\n",
    "                return True\n",
    "    return False"
   ]
  },
  {
   "cell_type": "markdown",
   "id": "2deaf79c",
   "metadata": {},
   "source": [
    "The **create_pairings** function returns the list of possible nodes as tupples, between which a shortcut edge can go. \\\n",
    "**G**: The graph in which we are looking for shortcut edges. \\\n",
    "**all_nodes**: the list containing all the nodes that don't have a shortcut edge yet. \\\n",
    "The function returns *pairings*, a list of tupples."
   ]
  },
  {
   "cell_type": "code",
   "execution_count": 5,
   "id": "402a88c4",
   "metadata": {},
   "outputs": [],
   "source": [
    "def create_pairings(G, all_nodes):\n",
    "    pairings = []\n",
    "    for j in range(0, len(all_nodes)):\n",
    "        for l in range(j+1, len(all_nodes)):\n",
    "            #The edge is a new shortcut edge if it is not a self-loop and is not in G already. j<l is there to make sure we don't list\n",
    "            #the same edge twice in pairings.\n",
    "            if (not G.has_edge(all_nodes[j], all_nodes[l])) & (j<l):\n",
    "                pairings.append((all_nodes[j], all_nodes[l]))\n",
    "    return pairings\n",
    "            "
   ]
  },
  {
   "cell_type": "markdown",
   "id": "24362c0f",
   "metadata": {},
   "source": [
    "The recursion itself."
   ]
  },
  {
   "cell_type": "code",
   "execution_count": 6,
   "id": "2cd7e407",
   "metadata": {},
   "outputs": [],
   "source": [
    "def recursive(G, all_nodes):\n",
    "    #it stops if there is no possible edge to draw between two nodes that need another edge and haven't been previously connected.\n",
    "    if (not possible_pairs(G, all_nodes)):\n",
    "        #the first reason why there couldn't be another pair, is that the algorithm had already found a perfect pairing, and there \n",
    "        #are no nodes left in the all_nodes, who need a pair. In this case, the problem is solved, we just need to return the correct\n",
    "        #graph, which is exactly the one that we got as a parameter.\n",
    "        if len(all_nodes)==0:\n",
    "            return G\n",
    "        #the other possibility is when there are nodes who need pairing, but there is no possible pairing between them. This means, that\n",
    "        #because of the steps taken before this step, we got to a point, where there is no other possibility but to backtrack and change\n",
    "        #one or more steps(drawn edges) in order not to get to a deadlock.\n",
    "        else:\n",
    "            return None\n",
    "    #If there is at least one but possibly more edges that we can draw in the G graph and get shortcut edges, we need to first examine\n",
    "    #what are the possible edges and choose one from them at random. After choosing one, we need to call the same function (recursive)\n",
    "    #with the chosen edge in it, and examine the situation there. However, the recursive function will return, and we will have to\n",
    "    #examine whether the choice we made in this step led to a perfect pairing (then return the graph) ir whether it led to a deadlock\n",
    "    #in the latter case, we have to choose another edge to draw at random. If we run out of possible edges, we have to return with None,\n",
    "    #to signal that drawing the edge that led to the parameter G graph was what possibly caused the deadlock.\n",
    "    else:\n",
    "        #Generating all the possible correct node pairings that we can choose in G graph (the possible shortcut edges)\n",
    "        pairs = list(nx.non_edges(G))\n",
    "        num_of_original_pairs = len(pairs)\n",
    "        #We might have to try all possible edges sequentially.\n",
    "        for i in range(0, num_of_original_pairs):\n",
    "            #index stands for a random number between 0 and the number of pairs originally.\n",
    "            index = rn.randint(0, len(pairs)-1)\n",
    "            #We add the randomly chosen shortcut edge to graph G.\n",
    "            G.add_edge(pairs[index][0], pairs[index][1])\n",
    "            #We have to remove the 2 nodes from all_nodes, as they don't need a shortcut edge anymore.\n",
    "            all_nodes.remove(pairs[index][0])\n",
    "            all_nodes.remove(pairs[index][1])\n",
    "            #we have to call the recursive function\n",
    "            product = recursive(G, all_nodes)\n",
    "            #We have to check what the recursive function returned with.\n",
    "            #If it returned with None then the previously drawn shortcut edge leads to a deadlock. Therefore, we should not draw that one.\n",
    "            #We have to delete the edge, delete the option from pairs, and put both nodes back to the nodes needing a shortcut edge list.\n",
    "            if product is None:\n",
    "                G.remove_edge(pairs[index][0], pairs[index][1])\n",
    "                all_nodes.append(pairs[index][0])\n",
    "                all_nodes.append(pairs[index][1])\n",
    "                pairs.remove(pairs[index])\n",
    "            #However, if the function returned with a graph, that means, we have a perfect pairing in that graph! In this case we just\n",
    "            #need to return the graph(product).\n",
    "            else:\n",
    "                return product\n",
    "        #If we tried every possible pair and got a deadlock for each shortcut edge, we have to return that the edge that led to here has\n",
    "        #to be deleted as it only caused deadlocks.\n",
    "        return None\n",
    "     \n",
    "        "
   ]
  },
  {
   "cell_type": "markdown",
   "id": "f4f7c525",
   "metadata": {},
   "source": [
    "Testing the recursive function:"
   ]
  },
  {
   "cell_type": "code",
   "execution_count": 7,
   "id": "03347a6f",
   "metadata": {},
   "outputs": [
    {
     "name": "stdout",
     "output_type": "stream",
     "text": [
      "5\n",
      "5\n",
      "5\n",
      "5\n",
      "5\n",
      "5\n",
      "5\n",
      "5\n",
      "5\n",
      "5\n",
      "5\n",
      "5\n",
      "5\n",
      "5\n",
      "5\n",
      "5\n",
      "5\n",
      "5\n",
      "5\n",
      "5\n",
      "5\n",
      "5\n",
      "5\n",
      "5\n",
      "5\n",
      "5\n",
      "5\n",
      "5\n",
      "5\n",
      "5\n",
      "5\n",
      "5\n",
      "5\n",
      "5\n",
      "5\n",
      "5\n",
      "5\n",
      "5\n",
      "5\n",
      "5\n",
      "5\n",
      "5\n",
      "5\n",
      "5\n",
      "5\n",
      "5\n",
      "5\n",
      "5\n",
      "5\n",
      "5\n",
      "5\n",
      "5\n",
      "5\n",
      "5\n",
      "5\n",
      "5\n",
      "5\n",
      "5\n",
      "5\n",
      "5\n",
      "5\n",
      "5\n",
      "5\n",
      "5\n",
      "5\n",
      "5\n",
      "5\n",
      "5\n",
      "5\n",
      "5\n",
      "5\n",
      "5\n",
      "5\n",
      "5\n",
      "5\n",
      "5\n",
      "5\n",
      "5\n",
      "5\n",
      "5\n",
      "5\n",
      "5\n",
      "5\n",
      "5\n",
      "5\n",
      "5\n",
      "5\n",
      "5\n",
      "5\n",
      "5\n",
      "5\n",
      "5\n",
      "5\n",
      "5\n",
      "5\n",
      "5\n",
      "5\n",
      "5\n",
      "5\n",
      "5\n"
     ]
    }
   ],
   "source": [
    "G = Network_of_N_nodes(100, 2)\n",
    "H = recursive(G, list(G.nodes()))\n",
    "for i in range(0, len(list(H.nodes))):\n",
    "        print(H.degree[i])\n",
    "#nx.draw(H)"
   ]
  },
  {
   "cell_type": "code",
   "execution_count": 8,
   "id": "d08b940a",
   "metadata": {},
   "outputs": [],
   "source": [
    "avg_dict = generator()"
   ]
  },
  {
   "cell_type": "markdown",
   "id": "d5445d95",
   "metadata": {},
   "source": [
    "Calculating an average for multiple Ns, and plotting them out to see the values. The red line is at 0.3, the theoretical estimate. The values seemingly converge to 0.3. However, there are small spikes all over the network, i.e. at N=18, where the average clustering coefficient is bigger than at N=16. I can only explain this by the randomness of the functions used, as we didn't calculate and average a clustering coefficient for every possible network for every N. "
   ]
  },
  {
   "cell_type": "code",
   "execution_count": 9,
   "id": "01ddc4ea",
   "metadata": {},
   "outputs": [
    {
     "data": {
      "image/png": "[encoded data removed]",
      "text/plain": [
       "<Figure size 640x480 with 1 Axes>"
      ]
     },
     "metadata": {},
     "output_type": "display_data"
    }
   ],
   "source": [
    "fig, ax = plt.subplots()\n",
    "\n",
    "ax.bar(avg_dict.keys(), avg_dict.values(), width=1, edgecolor=\"white\", linewidth=0.7)\n",
    "plt.axhline(y=0.3, color='r')\n",
    "plt.show()"
   ]
  },
  {
   "cell_type": "markdown",
   "id": "d619944a",
   "metadata": {},
   "source": [
    "The last step is to examine the exact values for a few, increasing Ns like we did during the class. My algorithm turned out to be very slow for Ns bigger then 1000, that is the reason why that is the biggest value examined."
   ]
  },
  {
   "cell_type": "code",
   "execution_count": 10,
   "id": "d8afa88d",
   "metadata": {},
   "outputs": [
    {
     "name": "stdout",
     "output_type": "stream",
     "text": [
      "10\n",
      "20\n",
      "100\n",
      "500\n",
      "1000\n"
     ]
    }
   ],
   "source": [
    "N_values = [10,20,100, 500, 1000]\n",
    "values = []\n",
    "for N in N_values:\n",
    "    G = Network_of_N_nodes(N, 2)\n",
    "    values.append(nx.average_clustering(recursive(G, list(G.nodes()))))"
   ]
  },
  {
   "cell_type": "markdown",
   "id": "ce2f48fe",
   "metadata": {},
   "source": [
    "The above values on a plot. Tha average clustering coefficient seemingly converges to 0.3."
   ]
  },
  {
   "cell_type": "code",
   "execution_count": 11,
   "id": "118502eb",
   "metadata": {},
   "outputs": [
    {
     "data": {
      "text/plain": [
       "<matplotlib.lines.Line2D at 0x1ee1936e310>"
      ]
     },
     "execution_count": 11,
     "metadata": {},
     "output_type": "execute_result"
    },
    {
     "data": {
      "image/png": "[encoded data removed]",
      "text/plain": [
       "<Figure size 640x480 with 1 Axes>"
      ]
     },
     "metadata": {},
     "output_type": "display_data"
    }
   ],
   "source": [
    "plt.plot(N_values, values)\n",
    "plt.ylim(0.2, 0.5)\n",
    "plt.axhline(y=0.3, color='r')"
   ]
  },
  {
   "cell_type": "code",
   "execution_count": 12,
   "id": "bb65fc22",
   "metadata": {},
   "outputs": [
    {
     "name": "stdout",
     "output_type": "stream",
     "text": [
      "[0.41999999999999993, 0.345, 0.3060000000000005, 0.3024, 0.30000000000000565]\n"
     ]
    }
   ],
   "source": [
    "print(values)"
   ]
  },
  {
   "cell_type": "markdown",
   "id": "7498657f",
   "metadata": {},
   "source": [
    "This way our estimate is around 0.3 +/- 0.01, just as in the theoretical explanation."
   ]
  }
 ],
 "metadata": {
  "kernelspec": {
   "display_name": "Python 3 (ipykernel)",
   "language": "python",
   "name": "python3"
  },
  "language_info": {
   "codemirror_mode": {
    "name": "ipython",
    "version": 3
   },
   "file_extension": ".py",
   "mimetype": "text/x-python",
   "name": "python",
   "nbconvert_exporter": "python",
   "pygments_lexer": "ipython3",
   "version": "3.11.5"
  }
 },
 "nbformat": 4,
 "nbformat_minor": 5
}
